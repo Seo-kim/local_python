{
 "cells": [
  {
   "cell_type": "markdown",
   "metadata": {},
   "source": [
    "# 3.1 리플 Random Sampling후 긍정/부정 labeling  \n",
    "\n",
    "\n",
    "> 목적 : 전체 리플의 긍정 / 부정 비율을 보기 위해 원하는 갯수 만큼의 리플을 랜덤샘플링을 통해 뽑아내고,   \n",
    "그 리플들의 긍정/부정을 labelling 합니다. \n",
    "> 수작업 labeling후에 긍정/부정 비율을 계산합니다\n",
    "\n",
    "> 한계 : text의 긍정/부정 분석은 크게 두가지 방법론을 확인 할 수 있었는데,   \n",
    "> (1.) 글 요소별 (여기서는, 리플 하나마다) scoring(예를들어, 영화 평점 5점 중 4점, \n",
    "   또는 긍정=1, 부정=0)이 되어있는 데이터를 사용하거나.     \n",
    "> (2.) 긍정 단어, 부정 단어 군이 보관된 감성 사전(Sentiment lexicon)이 있는 경우    \n",
    "> => 이런 경우 감성분석을 수행 할 수 있는 것을 확인 할 수 있었습니다.    \n",
    "> => 현재 두 경우가 모두 시간적, 가용 인력적인 문제로 해결이 어려워 차선책인 '랜덤샘플링 후 긍정/부정 수작업 labeling' 방법을 수행했습니다. \n",
    "    "
   ]
  },
  {
   "cell_type": "code",
   "execution_count": 16,
   "metadata": {},
   "outputs": [],
   "source": [
    "import pandas as pd\n",
    "import numpy as np"
   ]
  },
  {
   "cell_type": "code",
   "execution_count": 17,
   "metadata": {},
   "outputs": [],
   "source": [
    "## 댓글 중 랜덤샘플 size = 100으로 파일수 3개 export하기 \n",
    "for i in range(3):\n",
    "    assem_20th = pd.read_csv('../KBS시사/국민_키워드 기사/20대_+국민_댓글원문.csv', engine = 'python', header = 0)\n",
    "    rand_reply_20th_100 = np.random.choice(assem_20th.rp_text, 100, replace = False)\n",
    "    file_name = '../KBS시사/국민_키워드 기사/20대_random_100_'+str(i)+'.csv'\n",
    "    pd.DataFrame({'text' : rand_reply_20th_100,\n",
    "                 'positive=1':''}).to_csv(file_name, index = 0, encoding = 'EUC-KR')"
   ]
  },
  {
   "cell_type": "code",
   "execution_count": 19,
   "metadata": {},
   "outputs": [],
   "source": [
    "## 댓글 중 랜덤샘플 size = 100으로 파일수 3개 export하기 \n",
    "for i in range(3):\n",
    "    promotion = pd.read_csv('../KBS시사/국민_키워드 기사/공천_+국민_댓글원문.csv', engine = 'python', header = 0)\n",
    "    rand_reply_20th_100 = np.random.choice(promotion.rp_text, 100, replace = False)\n",
    "    file_name = '../KBS시사/국민_키워드 기사/공천_random_100_'+str(i)+'.csv'\n",
    "    pd.DataFrame({'text' : rand_reply_20th_100,\n",
    "                 'positive=1':''}).to_csv(file_name, index = 0, encoding = 'EUC-KR')"
   ]
  },
  {
   "cell_type": "markdown",
   "metadata": {},
   "source": [
    "### 긍정 /부정 비율 계산"
   ]
  },
  {
   "cell_type": "code",
   "execution_count": 21,
   "metadata": {},
   "outputs": [],
   "source": [
    "from glob import glob"
   ]
  },
  {
   "cell_type": "markdown",
   "metadata": {},
   "source": [
    "## 20대 국회_ 랜덤샘플 300개 중 "
   ]
  },
  {
   "cell_type": "code",
   "execution_count": 39,
   "metadata": {},
   "outputs": [
    {
     "name": "stdout",
     "output_type": "stream",
     "text": [
      "\n",
      "\"20대 국회\"관련 기사 내 댓글 중, \"국민\"을 언급한 댓글의 정치 긍정 응답 비율 :\n",
      " 긍정 :  3.67 % : 부정 :  96.33 % \n",
      "\n",
      "\n",
      "\n",
      "\"20대 국회\"관련 기사 내 \"국민\"언급 전체 댓글 총 :  4650 건 중\n",
      " 랜덤 샘플링으로 추출한 댓글 총 :  300 건으로부터 \n"
     ]
    }
   ],
   "source": [
    "file_list = glob('../KBS시사/국민_키워드 기사/20대_random_*.csv')\n",
    "old_df = pd.DataFrame()\n",
    "for file_name in file_list:\n",
    "#     print(file_name)\n",
    "    new_df = pd.read_csv(file_name,engine = 'python')\n",
    "    old_df = pd.concat([old_df, new_df], ignore_index=True)\n",
    "    \n",
    "pos_answered_count = old_df['positive=1'].sum()\n",
    "tot_answered_count = len(old_df)\n",
    "\n",
    "pos_answered_ratio = (pos_answered_count/tot_answered_count)*100\n",
    "neg_answered_ratio = (1 - (pos_answered_count/tot_answered_count))*100\n",
    "\n",
    "print('\\n\"20대 국회\"관련 기사 내 댓글 중, \"국민\"을 언급한 댓글의 정치 긍정 응답 비율 :\\n',\n",
    "     '긍정 : ', str(round(pos_answered_ratio, 2)),'% : 부정 : ',str(round(neg_answered_ratio, 2)),'% \\n\\n\\n')\n",
    "\n",
    "print('\"20대 국회\"관련 기사 내 \"국민\"언급 전체 댓글 총 : ', len(assem_20th), '건 중\\n',\n",
    "     '랜덤 샘플링으로 추출한 댓글 총 : ', tot_answered_count,'건으로부터 ')\n",
    "\n",
    "    \n",
    "    \n",
    "    "
   ]
  },
  {
   "cell_type": "markdown",
   "metadata": {},
   "source": [
    "## 공천_ 랜덤샘플 300개 중 "
   ]
  },
  {
   "cell_type": "code",
   "execution_count": 41,
   "metadata": {},
   "outputs": [
    {
     "name": "stdout",
     "output_type": "stream",
     "text": [
      "\n",
      "\"공천\"관련 기사 내 댓글 중, \"국민\"을 언급한 댓글의 정치 긍정 응답 비율 :\n",
      " 긍정 :  2.67 % : 부정 :  97.33 % \n",
      "\n",
      "\n",
      "\n",
      "\"공천\"관련 기사 내 \"국민\"언급 전체 댓글 총 :  8044 건 중\n",
      " 랜덤 샘플링으로 추출한 댓글 총 :  300 건으로부터 \n"
     ]
    }
   ],
   "source": [
    "file_list = glob('../KBS시사/국민_키워드 기사/공천_random_*.csv')\n",
    "old_df = pd.DataFrame()\n",
    "for file_name in file_list:\n",
    "#     print(file_name)\n",
    "    new_df = pd.read_csv(file_name,engine = 'python')\n",
    "    old_df = pd.concat([old_df, new_df], ignore_index=True)\n",
    "    \n",
    "pos_answered_count = old_df['positive=1'].sum()\n",
    "tot_answered_count = len(old_df)\n",
    "\n",
    "pos_answered_ratio = (pos_answered_count/tot_answered_count)*100\n",
    "neg_answered_ratio = (1 - (pos_answered_count/tot_answered_count))*100\n",
    "\n",
    "print('\\n\"공천\"관련 기사 내 댓글 중, \"국민\"을 언급한 댓글의 정치 긍정 응답 비율 :\\n',\n",
    "     '긍정 : ', str(round(pos_answered_ratio, 2)),'% : 부정 : ',str(round(neg_answered_ratio, 2)),'% \\n\\n\\n')\n",
    "\n",
    "print('\"공천\"관련 기사 내 \"국민\"언급 전체 댓글 총 : ', len(promotion), '건 중\\n',\n",
    "     '랜덤 샘플링으로 추출한 댓글 총 : ', tot_answered_count,'건으로부터 ')"
   ]
  },
  {
   "cell_type": "code",
   "execution_count": null,
   "metadata": {},
   "outputs": [],
   "source": []
  },
  {
   "cell_type": "code",
   "execution_count": null,
   "metadata": {},
   "outputs": [],
   "source": []
  },
  {
   "cell_type": "code",
   "execution_count": null,
   "metadata": {},
   "outputs": [],
   "source": []
  },
  {
   "cell_type": "code",
   "execution_count": null,
   "metadata": {},
   "outputs": [],
   "source": []
  }
 ],
 "metadata": {
  "kernelspec": {
   "display_name": "Python 3",
   "language": "python",
   "name": "python3"
  },
  "language_info": {
   "codemirror_mode": {
    "name": "ipython",
    "version": 3
   },
   "file_extension": ".py",
   "mimetype": "text/x-python",
   "name": "python",
   "nbconvert_exporter": "python",
   "pygments_lexer": "ipython3",
   "version": "3.8.5"
  }
 },
 "nbformat": 4,
 "nbformat_minor": 4
}
