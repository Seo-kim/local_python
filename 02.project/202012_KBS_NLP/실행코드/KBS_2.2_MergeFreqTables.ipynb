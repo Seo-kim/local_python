{
 "cells": [
  {
   "cell_type": "markdown",
   "metadata": {},
   "source": [
    "# 1.2 빈도 xlsx 파일 통합 \n",
    "> 목적 : 하나의 키워드에 대해 // 기간별 //로 쪼개놓은 빈도 xlsx파일들을 하나로 묶습니다.        \n",
    "    \n",
    "> 작업 :  \n",
    "=> pandas에 concat(concatenate 함수)와 groupby 메소드를 사용하여 빈도 테이블을 하나로 만들어줍니다. \n",
    "=> 동일 단어가 나오면 빈도 count값들을 합쳐줍니다. "
   ]
  },
  {
   "cell_type": "code",
   "execution_count": 1,
   "metadata": {},
   "outputs": [],
   "source": [
    "import pandas as pd\n",
    "from glob import glob"
   ]
  },
  {
   "cell_type": "code",
   "execution_count": null,
   "metadata": {},
   "outputs": [],
   "source": []
  },
  {
   "cell_type": "markdown",
   "metadata": {},
   "source": [
    "## concat 와 groupby로 합계내기"
   ]
  },
  {
   "cell_type": "code",
   "execution_count": 3,
   "metadata": {},
   "outputs": [
    {
     "data": {
      "text/plain": [
       "['../KBS시사/DaumPoli/new_freq\\\\20대_freq70_2018.12.xlsx',\n",
       " '../KBS시사/DaumPoli/new_freq\\\\20대_freq70_2019.01.xlsx',\n",
       " '../KBS시사/DaumPoli/new_freq\\\\20대_freq70_2019.02.xlsx',\n",
       " '../KBS시사/DaumPoli/new_freq\\\\20대_freq70_2019.03.xlsx',\n",
       " '../KBS시사/DaumPoli/new_freq\\\\20대_freq70_2019.04.xlsx',\n",
       " '../KBS시사/DaumPoli/new_freq\\\\20대_freq70_2019.05.xlsx',\n",
       " '../KBS시사/DaumPoli/new_freq\\\\20대_freq70_2019.06.xlsx',\n",
       " '../KBS시사/DaumPoli/new_freq\\\\20대_freq70_2019.07.xlsx',\n",
       " '../KBS시사/DaumPoli/new_freq\\\\20대_freq70_2019.08.xlsx',\n",
       " '../KBS시사/DaumPoli/new_freq\\\\20대_freq70_2019.09.xlsx',\n",
       " '../KBS시사/DaumPoli/new_freq\\\\20대_freq70_2019.10.xlsx',\n",
       " '../KBS시사/DaumPoli/new_freq\\\\20대_freq70_2019.11.xlsx',\n",
       " '../KBS시사/DaumPoli/new_freq\\\\20대_freq70_2019.12.xlsx']"
      ]
     },
     "execution_count": 3,
     "metadata": {},
     "output_type": "execute_result"
    }
   ],
   "source": [
    "# 공천 2016년 함처서\n",
    "file_list = glob('../KBS시사/DaumPoli/new_freq/20대_*.xlsx')\n",
    "file_list"
   ]
  },
  {
   "cell_type": "code",
   "execution_count": 4,
   "metadata": {},
   "outputs": [
    {
     "name": "stdout",
     "output_type": "stream",
     "text": [
      "(1066, 2)\n"
     ]
    }
   ],
   "source": [
    "file_list = glob('../KBS시사/DaumPoli/new_freq/20대_*.xlsx') # < glob를 써서 비슷한 이름의 파일을 모두 불러오고\n",
    "df = pd.read_excel(file_list[0]) # 처음에 빈 dataFrame을 지정하는데 작은 에러들이 있어서 \n",
    "# 먼저 하나를 수작업으로 첫번째 df로 지정한 후에 \n",
    "del file_list[0] # < glob안에 전체 목록에서는 첫번쨰 파일이름만 지워줍니다. \n",
    "\n",
    "for file_name in file_list:# < 나머지 glob안에 모든 파일을 \n",
    "    df=pd.concat([df,pd.read_excel(file_name)]) # 각각 불러와서 먼저 고스란히 concat 합니다.\n",
    "# concat된 두개의 행렬은 중복값 무관하게 순수하게 아래로 붙게 됩니다. \n",
    "# ex) df1.shape = (50,2), df2.shape = (35,2) \n",
    "# pd.concat([df1, df2]).shape = (85,2)  가 됩니다. \n",
    "\n",
    "print(df.shape) # < 전체 빈도 테이블들을 모두 합치면 나오는 (행x열) 크기를 확인합니다. \n",
    "df = df.groupby(df.words, sort=False).sum() # 이제 groupby메소드를 이용해서 동일'단어'에 대해서는 값을 sum해줍니다.\n",
    "df = df.sort_values(by = 'freq', ascending = False).reset_index(level='words') \n",
    "# 빈도 순서대로 보고 싶기 때문에 내림차순 정렬을 한번 수행하고, index를 reset해줍니다. \n",
    "df.to_excel('../KBS시사/DaumPoli/new_freq/20대국회_2019_new.xlsx', index = False)\n",
    "# 빈도를 모두 합친 xlsx를 export시켜줍니다. "
   ]
  },
  {
   "cell_type": "code",
   "execution_count": 10,
   "metadata": {},
   "outputs": [
    {
     "name": "stdout",
     "output_type": "stream",
     "text": [
      "(240, 2)\n"
     ]
    }
   ],
   "source": [
    "file_list = glob('../KBS시사/DaumPoli/new_freq/공천_freq70_2019*.xlsx')\n",
    "df = pd.read_excel(file_list[0])\n",
    "del file_list[0]\n",
    "\n",
    "for file_name in file_list:\n",
    "    df=pd.concat([df,pd.read_excel(file_name)])\n",
    "\n",
    "print(df.shape)\n",
    "df = df.groupby(df.words, sort=False).sum()\n",
    "df = df.sort_values(by = 'freq', ascending = False).reset_index(level='words')\n",
    "df.to_excel('../KBS시사/DaumPoli/new_freq/공천_2019_new.xlsx', index = False)"
   ]
  },
  {
   "cell_type": "code",
   "execution_count": 11,
   "metadata": {},
   "outputs": [
    {
     "name": "stdout",
     "output_type": "stream",
     "text": [
      "(249, 2)\n"
     ]
    }
   ],
   "source": [
    "file_list = glob('../KBS시사/DaumPoli/new_freq/공천_freq70_2016*.xlsx')\n",
    "df = pd.read_excel(file_list[0])\n",
    "del file_list[0]\n",
    "\n",
    "for file_name in file_list:\n",
    "    df=pd.concat([df,pd.read_excel(file_name)])\n",
    "\n",
    "print(df.shape)\n",
    "df = df.groupby(df.words, sort=False).sum()\n",
    "df = df.sort_values(by = 'freq', ascending = False).reset_index(level='words')\n",
    "df.to_excel('../KBS시사/DaumPoli/new_freq/공천_2016_new.xlsx', index = False)"
   ]
  },
  {
   "cell_type": "code",
   "execution_count": 12,
   "metadata": {},
   "outputs": [
    {
     "name": "stdout",
     "output_type": "stream",
     "text": [
      "(883, 2)\n"
     ]
    }
   ],
   "source": [
    "file_list = glob('../KBS시사/DaumPoli/new_freq/공천_*.xlsx')\n",
    "df = pd.read_excel(file_list[0])\n",
    "del file_list[0]\n",
    "\n",
    "for file_name in file_list:\n",
    "    df=pd.concat([df,pd.read_excel(file_name)])\n",
    "\n",
    "print(df.shape)\n",
    "df = df.groupby(df.words, sort=False).sum()\n",
    "df = df.sort_values(by = 'freq', ascending = False).reset_index(level='words')\n",
    "df.to_excel('../KBS시사/DaumPoli/new_freq/공천_16+19_new.xlsx', index = False)"
   ]
  },
  {
   "cell_type": "code",
   "execution_count": null,
   "metadata": {},
   "outputs": [],
   "source": []
  }
 ],
 "metadata": {
  "kernelspec": {
   "display_name": "Python 3",
   "language": "python",
   "name": "python3"
  },
  "language_info": {
   "codemirror_mode": {
    "name": "ipython",
    "version": 3
   },
   "file_extension": ".py",
   "mimetype": "text/x-python",
   "name": "python",
   "nbconvert_exporter": "python",
   "pygments_lexer": "ipython3",
   "version": "3.8.5"
  }
 },
 "nbformat": 4,
 "nbformat_minor": 4
}
