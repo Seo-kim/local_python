{
 "cells": [
  {
   "cell_type": "code",
   "execution_count": 1,
   "metadata": {},
   "outputs": [],
   "source": [
    "import zipfile\n",
    "import os "
   ]
  },
  {
   "cell_type": "code",
   "execution_count": 10,
   "metadata": {},
   "outputs": [
    {
     "data": {
      "text/plain": [
       "'C:\\\\Users\\\\seoun\\\\Desktop\\\\python\\\\05.dev\\\\01.data\\\\'"
      ]
     },
     "execution_count": 10,
     "metadata": {},
     "output_type": "execute_result"
    }
   ],
   "source": [
    "USER_PATH = os.environ['USERPROFILE']   # \"'C:\\\\Users\\\\seoun'\" \n",
    "\n",
    "PY_PATH = USER_PATH + '\\\\Desktop\\\\python\\\\' \n",
    "DEV_PATH = PY_PATH + '05.dev\\\\' \n",
    "DEVDATA_PATH = DEV_PATH + '01.data\\\\' \n",
    "\n",
    "# DEVDATA_PATH    # 'C:\\\\Users\\\\seoun\\\\Desktop\\\\python\\\\05.dev\\\\01.data\\\\'"
   ]
  },
  {
   "cell_type": "code",
   "execution_count": 11,
   "metadata": {},
   "outputs": [],
   "source": [
    "zf = zipfile.ZipFile(DEVDATA_PATH+\"5m-Sales-Records.zip\", 'r') \n",
    "\n",
    "zf.extractall(path=DEVDATA_PATH) \n",
    "zf.close() "
   ]
  },
  {
   "cell_type": "code",
   "execution_count": null,
   "metadata": {},
   "outputs": [],
   "source": []
  }
 ],
 "metadata": {
  "kernelspec": {
   "display_name": "Python 3",
   "language": "python",
   "name": "python3"
  },
  "language_info": {
   "codemirror_mode": {
    "name": "ipython",
    "version": 3
   },
   "file_extension": ".py",
   "mimetype": "text/x-python",
   "name": "python",
   "nbconvert_exporter": "python",
   "pygments_lexer": "ipython3",
   "version": "3.8.5"
  }
 },
 "nbformat": 4,
 "nbformat_minor": 4
}
