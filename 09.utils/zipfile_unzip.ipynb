{
 "cells": [
  {
   "cell_type": "code",
   "execution_count": 2,
   "metadata": {},
   "outputs": [],
   "source": [
    "import zipfile\n",
    "import os "
   ]
  },
  {
   "cell_type": "code",
   "execution_count": 4,
   "metadata": {},
   "outputs": [],
   "source": [
    "USER_PATH = os.environ['USERPROFILE']   # \"'C:\\\\Users\\\\seoun'\" \n",
    "\n",
    "PY_PATH = USER_PATH + '\\\\Desktop\\\\python\\\\' \n",
    "DEV_PATH = PY_PATH + '05.dev\\\\' \n",
    "DEVDATA_PATH = DEV_PATH + '01.data\\\\' \n",
    "\n",
    "# DEVDATA_PATH    # 'C:\\\\Users\\\\seoun\\\\Desktop\\\\python\\\\05.dev\\\\01.data\\\\'"
   ]
  },
  {
   "cell_type": "code",
   "execution_count": 11,
   "metadata": {},
   "outputs": [],
   "source": [
    "zf = zipfile.ZipFile(DEVDATA_PATH+\"5m-Sales-Records.zip\", 'r') \n",
    "\n",
    "zf.extractall(path=DEVDATA_PATH) \n",
    "zf.close() "
   ]
  },
  {
   "cell_type": "code",
   "execution_count": null,
   "metadata": {},
   "outputs": [],
   "source": []
  },
  {
   "cell_type": "code",
   "execution_count": null,
   "metadata": {},
   "outputs": [],
   "source": []
  },
  {
   "cell_type": "code",
   "execution_count": 1,
   "metadata": {},
   "outputs": [],
   "source": [
    "### updated on July 30th "
   ]
  },
  {
   "cell_type": "code",
   "execution_count": 5,
   "metadata": {},
   "outputs": [],
   "source": [
    "# to zip"
   ]
  },
  {
   "cell_type": "code",
   "execution_count": 10,
   "metadata": {},
   "outputs": [],
   "source": [
    "new_zip = zipfile.ZipFile(f\"{DEV_PATH}zipfilename.zip\", 'w')\n",
    "# zip하려는 folder는 '..\\\\python\\\\05.dev\\\\01.data\\\\'\n",
    "# zip을 놓으려는 위치는 '..\\\\python\\\\05.dev\\\\'  -> + zipfilename.zip으로 생성될 것 "
   ]
  },
  {
   "cell_type": "code",
   "execution_count": 9,
   "metadata": {},
   "outputs": [],
   "source": [
    "# new_zip.close()"
   ]
  },
  {
   "cell_type": "code",
   "execution_count": 11,
   "metadata": {},
   "outputs": [],
   "source": [
    "include_extension = ['py', 'ipynb']"
   ]
  },
  {
   "cell_type": "code",
   "execution_count": 13,
   "metadata": {},
   "outputs": [
    {
     "name": "stdout",
     "output_type": "stream",
     "text": [
      " * folder: C:\\Users\\seoun\\Desktop\\python\\05.dev\\01.data\\, subfolder: ['.ipynb_checkpoints', 'testfolder', 'Untitled Folder'], file: ['5m Sales Records.csv', 'testfiles.ipynb'] \n",
      " * folder: C:\\Users\\seoun\\Desktop\\python\\05.dev\\01.data\\.ipynb_checkpoints, subfolder: [], file: ['testfiles-checkpoint.ipynb'] \n",
      " * folder: C:\\Users\\seoun\\Desktop\\python\\05.dev\\01.data\\testfolder, subfolder: ['.ipynb_checkpoints'], file: ['5m-Sales-Records.zip', 'testfile.ipynb'] \n",
      " * folder: C:\\Users\\seoun\\Desktop\\python\\05.dev\\01.data\\testfolder\\.ipynb_checkpoints, subfolder: [], file: ['testfile-checkpoint.ipynb'] \n",
      " * folder: C:\\Users\\seoun\\Desktop\\python\\05.dev\\01.data\\Untitled Folder, subfolder: [], file: [] \n"
     ]
    }
   ],
   "source": [
    "for folder, subfolders, files in os.walk(DEVDATA_PATH): # zip하려는 folder '..\\\\python\\\\05.dev\\\\01.data\\\\'\n",
    "    print(f\" * folder: {folder}, subfolder: {subfolders}, file: {files} \")"
   ]
  },
  {
   "cell_type": "code",
   "execution_count": 16,
   "metadata": {},
   "outputs": [
    {
     "name": "stdout",
     "output_type": "stream",
     "text": [
      " * folder: C:\\Users\\seoun\\Desktop\\python\\05.dev\\01.data\\, subfolder: ['.ipynb_checkpoints', 'testfolder', 'Untitled Folder'], file: ['5m Sales Records.csv', 'testfiles.ipynb'] \n",
      "  -> * file dropped:  5m Sales Records.csv\n",
      "  -> * file included: testfiles.ipynb\n",
      " * folder: C:\\Users\\seoun\\Desktop\\python\\05.dev\\01.data\\.ipynb_checkpoints, subfolder: [], file: ['testfiles-checkpoint.ipynb'] \n",
      "  -> * file included: testfiles-checkpoint.ipynb\n",
      " * folder: C:\\Users\\seoun\\Desktop\\python\\05.dev\\01.data\\testfolder, subfolder: ['.ipynb_checkpoints'], file: ['5m-Sales-Records.zip', 'testfile.ipynb'] \n",
      "  -> * file dropped:  5m-Sales-Records.zip\n",
      "  -> * file included: testfile.ipynb\n",
      " * folder: C:\\Users\\seoun\\Desktop\\python\\05.dev\\01.data\\testfolder\\.ipynb_checkpoints, subfolder: [], file: ['testfile-checkpoint.ipynb'] \n",
      "  -> * file included: testfile-checkpoint.ipynb\n",
      " * folder: C:\\Users\\seoun\\Desktop\\python\\05.dev\\01.data\\Untitled Folder, subfolder: [], file: [] \n"
     ]
    }
   ],
   "source": [
    "for folder, subfolders, files in os.walk(DEVDATA_PATH): # zip하려는 folder '..\\\\python\\\\05.dev\\\\01.data\\\\'\n",
    "    print(f\" * folder: {folder}, subfolder: {subfolders}, file: {files} \")\n",
    "    \n",
    "    for file in files:\n",
    "        if file.split('.')[-1] in include_extension:\n",
    "            new_zip.write(os.path.join(folder, file), \n",
    "                          os.path.relpath(os.path.join(folder,file), DEVDATA_PATH), \n",
    "                          compress_type=zipfile.ZIP_DEFLATED)\n",
    "            print(f\"  -> * file included: {file}\")\n",
    "        else :\n",
    "            print(f\"  -> * file dropped:  {file}\")\n",
    "            \n",
    "new_zip.close()"
   ]
  },
  {
   "cell_type": "code",
   "execution_count": null,
   "metadata": {},
   "outputs": [],
   "source": []
  }
 ],
 "metadata": {
  "kernelspec": {
   "display_name": "Python 3",
   "language": "python",
   "name": "python3"
  },
  "language_info": {
   "codemirror_mode": {
    "name": "ipython",
    "version": 3
   },
   "file_extension": ".py",
   "mimetype": "text/x-python",
   "name": "python",
   "nbconvert_exporter": "python",
   "pygments_lexer": "ipython3",
   "version": "3.8.5"
  }
 },
 "nbformat": 4,
 "nbformat_minor": 4
}
